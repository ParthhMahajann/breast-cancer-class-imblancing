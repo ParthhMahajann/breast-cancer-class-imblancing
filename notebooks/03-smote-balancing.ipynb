{
 "cells": [
  {
   "cell_type": "code",
   "execution_count": 9,
   "id": "70c58175",
   "metadata": {},
   "outputs": [
    {
     "name": "stdout",
     "output_type": "stream",
     "text": [
      "================================================================================\n",
      "STEP 3: SMOTE BALANCING IMPLEMENTATION\n",
      "================================================================================\n"
     ]
    }
   ],
   "source": [
    "# Cell 1: Import required libraries\n",
    "import numpy as np\n",
    "import pandas as pd\n",
    "import matplotlib.pyplot as plt\n",
    "import seaborn as sns\n",
    "from sklearn.linear_model import LogisticRegression\n",
    "from sklearn.tree import DecisionTreeClassifier\n",
    "from sklearn.ensemble import RandomForestClassifier\n",
    "from sklearn.metrics import (\n",
    "accuracy_score, precision_score, recall_score, f1_score, \n",
    "roc_auc_score, confusion_matrix, classification_report\n",
    " )\n",
    "from imblearn.over_sampling import SMOTE\n",
    "import os\n",
    "import warnings\n",
    "warnings.filterwarnings('ignore')\n",
    "print(\"=\"*80)\n",
    "print(\"STEP 3: SMOTE BALANCING IMPLEMENTATION\")\n",
    "print(\"=\"*80)"
   ]
  },
  {
   "cell_type": "code",
   "execution_count": 12,
   "id": "2f071c7a",
   "metadata": {},
   "outputs": [
    {
     "ename": "FileNotFoundError",
     "evalue": "[Errno 2] No such file or directory: '../data/processed/X_train_scaled.npy'",
     "output_type": "error",
     "traceback": [
      "\u001b[31m---------------------------------------------------------------------------\u001b[39m",
      "\u001b[31mFileNotFoundError\u001b[39m                         Traceback (most recent call last)",
      "\u001b[36mCell\u001b[39m\u001b[36m \u001b[39m\u001b[32mIn[12]\u001b[39m\u001b[32m, line 3\u001b[39m\n\u001b[32m      1\u001b[39m  \u001b[38;5;66;03m# Cell 2: Load data from Step 1\u001b[39;00m\n\u001b[32m      2\u001b[39m \u001b[38;5;66;03m# Fix: use consistent relative path to the processed data directory\u001b[39;00m\n\u001b[32m----> \u001b[39m\u001b[32m3\u001b[39m X_train_scaled = \u001b[43mnp\u001b[49m\u001b[43m.\u001b[49m\u001b[43mload\u001b[49m\u001b[43m(\u001b[49m\u001b[33;43m'\u001b[39;49m\u001b[33;43m../data/processed/X_train_scaled.npy\u001b[39;49m\u001b[33;43m'\u001b[39;49m\u001b[43m)\u001b[49m\n\u001b[32m      4\u001b[39m X_test_scaled = np.load(\u001b[33m'\u001b[39m\u001b[33m../data/processed/X_test_scaled.npy\u001b[39m\u001b[33m'\u001b[39m)\n\u001b[32m      5\u001b[39m y_train = np.load(\u001b[33m'\u001b[39m\u001b[33m../data/processed/y_train.npy\u001b[39m\u001b[33m'\u001b[39m)\n",
      "\u001b[36mFile \u001b[39m\u001b[32m~\\AppData\\Roaming\\Python\\Python312\\site-packages\\numpy\\lib\\npyio.py:427\u001b[39m, in \u001b[36mload\u001b[39m\u001b[34m(file, mmap_mode, allow_pickle, fix_imports, encoding, max_header_size)\u001b[39m\n\u001b[32m    425\u001b[39m     own_fid = \u001b[38;5;28;01mFalse\u001b[39;00m\n\u001b[32m    426\u001b[39m \u001b[38;5;28;01melse\u001b[39;00m:\n\u001b[32m--> \u001b[39m\u001b[32m427\u001b[39m     fid = stack.enter_context(\u001b[38;5;28;43mopen\u001b[39;49m\u001b[43m(\u001b[49m\u001b[43mos_fspath\u001b[49m\u001b[43m(\u001b[49m\u001b[43mfile\u001b[49m\u001b[43m)\u001b[49m\u001b[43m,\u001b[49m\u001b[43m \u001b[49m\u001b[33;43m\"\u001b[39;49m\u001b[33;43mrb\u001b[39;49m\u001b[33;43m\"\u001b[39;49m\u001b[43m)\u001b[49m)\n\u001b[32m    428\u001b[39m     own_fid = \u001b[38;5;28;01mTrue\u001b[39;00m\n\u001b[32m    430\u001b[39m \u001b[38;5;66;03m# Code to distinguish from NumPy binary files and pickles.\u001b[39;00m\n",
      "\u001b[31mFileNotFoundError\u001b[39m: [Errno 2] No such file or directory: '../data/processed/X_train_scaled.npy'"
     ]
    }
   ],
   "source": [
    " # Cell 2: Load data from Step 1\n",
    "# Fix: use consistent relative path to the processed data directory\n",
    "X_train_scaled = np.load('../data/processed/X_train_scaled.npy')\n",
    "X_test_scaled = np.load('../data/processed/X_test_scaled.npy')\n",
    "y_train = np.load('../data/processed/y_train.npy')\n",
    "y_test = np.load('../data/processed/y_test.npy')\n",
    "print(f\"Original training data shape: {X_train_scaled.shape}\")\n",
    "print(f\"Original class distribution: {np.bincount(y_train)}\")\n",
    "print(f\"  Malignant (0): {np.sum(y_train == 0)} samples\")\n",
    "print(f\"  Benign (1): {np.sum(y_train == 1)} samples\")\n",
    "print(f\"  Imbalance ratio: {np.sum(y_train == 1) / np.sum(y_train == 0):.2f}:1\")"
   ]
  },
  {
   "cell_type": "code",
   "execution_count": 8,
   "id": "e52238b1",
   "metadata": {},
   "outputs": [
    {
     "name": "stdout",
     "output_type": "stream",
     "text": [
      "\n",
      "============================================================\n",
      "APPLYING SMOTE\n",
      "============================================================\n"
     ]
    },
    {
     "ename": "NameError",
     "evalue": "name 'SMOTE' is not defined",
     "output_type": "error",
     "traceback": [
      "\u001b[31m---------------------------------------------------------------------------\u001b[39m",
      "\u001b[31mNameError\u001b[39m                                 Traceback (most recent call last)",
      "\u001b[36mCell\u001b[39m\u001b[36m \u001b[39m\u001b[32mIn[8]\u001b[39m\u001b[32m, line 6\u001b[39m\n\u001b[32m      4\u001b[39m \u001b[38;5;28mprint\u001b[39m(\u001b[33m\"\u001b[39m\u001b[33m=\u001b[39m\u001b[33m\"\u001b[39m*\u001b[32m60\u001b[39m)\n\u001b[32m      5\u001b[39m  \u001b[38;5;66;03m# Initialize SMOTE with k_neighbors=5 (default)\u001b[39;00m\n\u001b[32m----> \u001b[39m\u001b[32m6\u001b[39m smote = \u001b[43mSMOTE\u001b[49m(random_state=\u001b[32m42\u001b[39m, k_neighbors=\u001b[32m5\u001b[39m)\n\u001b[32m      7\u001b[39m  \u001b[38;5;66;03m# Apply SMOTE to training data\u001b[39;00m\n\u001b[32m      8\u001b[39m X_train_smote, y_train_smote = smote.fit_resample(X_train_scaled, y_train)\n",
      "\u001b[31mNameError\u001b[39m: name 'SMOTE' is not defined"
     ]
    }
   ],
   "source": [
    "# Cell 3: Apply SMOTE balancing\n",
    "print(\"\\n\" + \"=\"*60)\n",
    "print(\"APPLYING SMOTE\")\n",
    "print(\"=\"*60)\n",
    " # Initialize SMOTE with k_neighbors=5 (default)\n",
    "smote = SMOTE(random_state=42, k_neighbors=5)\n",
    " # Apply SMOTE to training data\n",
    "X_train_smote, y_train_smote = smote.fit_resample(X_train_scaled, y_train)\n",
    "print(f\"\\n✅ SMOTE applied successfully!\")\n",
    "print(f\"\\nBalanced training data shape: {X_train_smote.shape}\")\n",
    "print(f\"Balanced class distribution: {np.bincount(y_train_smote)}\")\n",
    "print(f\"  Malignant (0): {np.sum(y_train_smote == 0)} samples\")\n",
    "print(f\"  Benign (1): {np.sum(y_train_smote == 1)} samples\")\n",
    "print(f\"  New balance ratio: {np.sum(y_train_smote == 1) / np.sum(y_train_smote == 0):.2f}:1\")\n",
    "# Calculate oversampling statistics\n",
    "original_minority = np.sum(y_train == 0)\n",
    "new_minority = np.sum(y_train_smote == 0)\n",
    "synthetic_samples = new_minority - original_minority\n",
    "print(f\"\\n SMOTE Statistics:\")\n",
    "print(f\"Original minority samples: {original_minority}\")\n",
    "print(f\"New minority samples: {new_minority}\")\n",
    "print(f\"   Synthetic samples created: {synthetic_samples}\")\n",
    "print(f\"   Total training samples: {len(y_train_smote)} (was {len(y_train)})\")"
   ]
  },
  {
   "cell_type": "code",
   "execution_count": null,
   "id": "8fe2bf28",
   "metadata": {},
   "outputs": [],
   "source": [
    " # Cell 4: Define evaluation function (reuse from Step 2)\n",
    "def evaluate_model_with_balancing(model, X_train, y_train, X_test, y_test, \n",
    "                                 model_name, method_name):\n",
    "    \"\"\"\n",
    "    Comprehensive model evaluation for balanced data.\n",
    "    \"\"\"\n",
    "    # Train model\n",
    "    model.fit(X_train, y_train)\n",
    "    \n",
    "    # Predictions\n",
    "    y_pred = model.predict(X_test)\n",
    "    y_pred_proba = model.predict_proba(X_test)[:, 1]\n",
    "    \n",
    "    # Calculate metrics\n",
    "    metrics = {\n",
    "        'Model': model_name,\n",
    "        'Method': method_name,\n",
    "        'Accuracy': accuracy_score(y_test, y_pred),\n",
    "        'Precision': precision_score(y_test, y_pred, average='weighted'),\n",
    "        'Recall': recall_score(y_test, y_pred, average='weighted'),\n",
    "        'F1_Score': f1_score(y_test, y_pred, average='weighted'),\n",
    "        'ROC_AUC': roc_auc_score(y_test, y_pred_proba),\n",
    "        \n",
    "        # Class-specific metrics (CRITICAL for imbalanced data)\n",
    "        'Precision_Malignant': precision_score(y_test, y_pred, pos_label=0),\n",
    "        'Recall_Malignant': recall_score(y_test, y_pred, pos_label=0),\n",
    "        'F1_Malignant': f1_score(y_test, y_pred, pos_label=0),\n",
    "        'Precision_Benign': precision_score(y_test, y_pred, pos_label=1),\n",
    "        'Recall_Benign': recall_score(y_test, y_pred, pos_label=1),\n",
    "        'F1_Benign': f1_score(y_test, y_pred, pos_label=1),\n",
    "    }\n",
    "    \n",
    "    # Print results\n",
    "    print(f\"\\n{'='*60}\")\n",
    "    print(f\"Model: {model_name} | Method: {method_name}\")\n",
    "    print(f\"{'='*60}\")\n",
    "    print(f\"Overall: Acc={metrics['Accuracy']:.4f}, \"\n",
    "          f\"F1={metrics['F1_Score']:.4f}, AUC={metrics['ROC_AUC']:.4f}\")\n",
    "    print(f\"Malignant: P={metrics['Precision_Malignant']:.4f}, \"\n",
    "          f\"R={metrics['Recall_Malignant']:.4f}, F1={metrics['F1_Malignant']:.4f}\")\n",
    "    print(f\"Benign: P={metrics['Precision_Benign']:.4f}, \"\n",
    "          f\"R={metrics['Recall_Benign']:.4f}, F1={metrics['F1_Benign']:.4f}\")\n",
    "    \n",
    "    return metrics, y_pred, y_pred_proba\n"
   ]
  },
  {
   "cell_type": "code",
   "execution_count": 13,
   "id": "cd1b2be7",
   "metadata": {},
   "outputs": [
    {
     "name": "stdout",
     "output_type": "stream",
     "text": [
      "\n",
      "================================================================================\n",
      "TRAINING MODELS WITH SMOTE-BALANCED DATA\n",
      "================================================================================\n",
      "\n",
      " Training Logistic Regression...\n"
     ]
    },
    {
     "ename": "NameError",
     "evalue": "name 'X_train_smote' is not defined",
     "output_type": "error",
     "traceback": [
      "\u001b[31m---------------------------------------------------------------------------\u001b[39m",
      "\u001b[31mNameError\u001b[39m                                 Traceback (most recent call last)",
      "\u001b[36mCell\u001b[39m\u001b[36m \u001b[39m\u001b[32mIn[13]\u001b[39m\u001b[32m, line 15\u001b[39m\n\u001b[32m     12\u001b[39m \u001b[38;5;28;01mfor\u001b[39;00m name, model \u001b[38;5;129;01min\u001b[39;00m models.items():\n\u001b[32m     13\u001b[39m     \u001b[38;5;28mprint\u001b[39m(\u001b[33mf\u001b[39m\u001b[33m\"\u001b[39m\u001b[38;5;130;01m\\n\u001b[39;00m\u001b[33m Training \u001b[39m\u001b[38;5;132;01m{\u001b[39;00mname\u001b[38;5;132;01m}\u001b[39;00m\u001b[33m...\u001b[39m\u001b[33m\"\u001b[39m)\n\u001b[32m     14\u001b[39m     metrics, y_pred, y_pred_proba = evaluate_model_with_balancing(\n\u001b[32m---> \u001b[39m\u001b[32m15\u001b[39m         model, \u001b[43mX_train_smote\u001b[49m, y_train_smote, X_test_scaled, y_test,\n\u001b[32m     16\u001b[39m         name, \u001b[33m\"\u001b[39m\u001b[33mSMOTE\u001b[39m\u001b[33m\"\u001b[39m\n\u001b[32m     17\u001b[39m     )\n\u001b[32m     18\u001b[39m     smote_results.append(metrics)\n\u001b[32m     19\u001b[39m     smote_predictions[name] = y_pred\n",
      "\u001b[31mNameError\u001b[39m: name 'X_train_smote' is not defined"
     ]
    }
   ],
   "source": [
    "# Cell 5: Train all models with SMOTE-balanced data\n",
    "models = {\n",
    "    'Logistic Regression': LogisticRegression(random_state=42),\n",
    "    'Decision Tree': DecisionTreeClassifier(random_state=42),\n",
    "    'Random Forest': RandomForestClassifier(random_state=42)\n",
    "}\n",
    "smote_results = []\n",
    "smote_predictions = {}\n",
    "print(\"\\n\" + \"=\"*80)\n",
    "print(\"TRAINING MODELS WITH SMOTE-BALANCED DATA\")\n",
    "print(\"=\"*80)\n",
    "for name, model in models.items():\n",
    "    print(f\"\\n Training {name}...\")\n",
    "    metrics, y_pred, y_pred_proba = evaluate_model_with_balancing(\n",
    "        model, X_train_smote, y_train_smote, X_test_scaled, y_test,\n",
    "        name, \"SMOTE\"\n",
    "    )\n",
    "    smote_results.append(metrics)\n",
    "    smote_predictions[name] = y_pred\n",
    " # Create results DataFrame\n",
    "smote_results_df = pd.DataFrame(smote_results)"
   ]
  },
  {
   "cell_type": "code",
   "execution_count": null,
   "id": "cae4b22a",
   "metadata": {},
   "outputs": [],
   "source": []
  }
 ],
 "metadata": {
  "kernelspec": {
   "display_name": "Python 3",
   "language": "python",
   "name": "python3"
  },
  "language_info": {
   "codemirror_mode": {
    "name": "ipython",
    "version": 3
   },
   "file_extension": ".py",
   "mimetype": "text/x-python",
   "name": "python",
   "nbconvert_exporter": "python",
   "pygments_lexer": "ipython3",
   "version": "3.12.5"
  }
 },
 "nbformat": 4,
 "nbformat_minor": 5
}
